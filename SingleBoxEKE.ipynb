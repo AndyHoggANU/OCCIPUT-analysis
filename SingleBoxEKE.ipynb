{
 "cells": [
  {
   "cell_type": "markdown",
   "metadata": {},
   "source": [
    "# Script to plot EKE and wind stress over a chosen box\n",
    "\n",
    "This script is designed so that we can select an individual box and compute:\n",
    " * The EKE for each member over that box\n",
    " * The ensemble mean EKE over that box\n",
    " * The wind stress over that box\n",
    " * The lagged cross-correlation between EKE and stress\n",
    " \n",
    "It is slow, even distributed over multiple cores, so be patient!"
   ]
  },
  {
   "cell_type": "code",
   "execution_count": 1,
   "metadata": {},
   "outputs": [],
   "source": [
    "%matplotlib inline\n",
    "\n",
    "import matplotlib.pyplot as plt\n",
    "import matplotlib.path as mpath\n",
    "import xarray as xr\n",
    "import numpy as np\n",
    "import IPython.display\n",
    "import pandas as pd\n",
    "import cmocean as cm\n",
    "import cartopy.crs as ccrs\n",
    "import cartopy.feature as cft\n",
    "import os \n",
    "\n",
    "import logging\n",
    "logging.captureWarnings(True)\n",
    "logging.getLogger('py.warnings').setLevel(logging.ERROR)\n",
    "\n",
    "from dask.distributed import Client"
   ]
  },
  {
   "cell_type": "code",
   "execution_count": 2,
   "metadata": {},
   "outputs": [
    {
     "data": {
      "text/html": [
       "<table style=\"border: 2px solid white;\">\n",
       "<tr>\n",
       "<td style=\"vertical-align: top; border: 0px solid white\">\n",
       "<h3 style=\"text-align: left;\">Client</h3>\n",
       "<ul style=\"text-align: left; list-style: none; margin: 0; padding: 0;\">\n",
       "  <li><b>Scheduler: </b>tcp://127.0.0.1:34568</li>\n",
       "  <li><b>Dashboard: </b><a href='http://127.0.0.1:8787/status' target='_blank'>http://127.0.0.1:8787/status</a>\n",
       "</ul>\n",
       "</td>\n",
       "<td style=\"vertical-align: top; border: 0px solid white\">\n",
       "<h3 style=\"text-align: left;\">Cluster</h3>\n",
       "<ul style=\"text-align: left; list-style:none; margin: 0; padding: 0;\">\n",
       "  <li><b>Workers: </b>4</li>\n",
       "  <li><b>Cores: </b>8</li>\n",
       "  <li><b>Memory: </b>33.67 GB</li>\n",
       "</ul>\n",
       "</td>\n",
       "</tr>\n",
       "</table>"
      ],
      "text/plain": [
       "<Client: 'tcp://127.0.0.1:34568' processes=4 threads=8, memory=33.67 GB>"
      ]
     },
     "execution_count": 2,
     "metadata": {},
     "output_type": "execute_result"
    }
   ],
   "source": [
    "client = Client(n_workers=4)\n",
    "client"
   ]
  },
  {
   "cell_type": "code",
   "execution_count": 3,
   "metadata": {},
   "outputs": [],
   "source": [
    "land_50m = cft.NaturalEarthFeature('physical', 'land', '50m',\n",
    "                                        edgecolor='black',\n",
    "                                        facecolor='gray',\n",
    "                                        linewidth=1.0)"
   ]
  },
  {
   "cell_type": "code",
   "execution_count": 4,
   "metadata": {},
   "outputs": [],
   "source": [
    "HardDisk = '/g/data/v45/amh157/OCCIPUT/'\n",
    "EnsembleDir = 'geouv/'"
   ]
  },
  {
   "cell_type": "code",
   "execution_count": 5,
   "metadata": {},
   "outputs": [],
   "source": [
    "## To load the EKE climatology\n",
    "climfilename = HardDisk+EnsembleDir+'eke_climatology.nc'\n",
    "eke_month = xr.open_dataset(climfilename).EKE"
   ]
  },
  {
   "cell_type": "code",
   "execution_count": 6,
   "metadata": {},
   "outputs": [],
   "source": [
    "# function to process and plot eke and tau, and NOT save as files\n",
    "def proc_plot_eke_box(desc, lon1,  lon2, lat1,  lat2, ax_p, ax_b, ax_pt):\n",
    "    nfiles = 5 #0\n",
    "    nn=0\n",
    "    start = pd.datetime(1980,1,1) ## start time for plotting\n",
    "    for ii in range(1,nfiles+1):\n",
    "        nn+=1\n",
    "        i00 = '%03d' % ii\n",
    "        Member = 'e'+i00\n",
    "        ekefilename = HardDisk+EnsembleDir+Member+'/eke_'+i00+'_????.nc'\n",
    "        #outfilename = HardDisk+EnsembleDir+Member+'/eke_'+desc+'_'+i00+'.nc'\n",
    "        \n",
    "        eke = xr.open_mfdataset(ekefilename).EKE\n",
    "        #print(ekefilename+' -> '+outfilename)\n",
    "    \n",
    "        eke = eke.sel(lon=slice(lon1,lon2)).sel(lat=slice(lat1,lat2)).mean('lon').mean('lat')\n",
    "        eke = eke.rolling(time=13,center=True).mean()\n",
    "        eke.plot(ax=ax_p,color=[0.5, 0.5, 0.5],linewidth=0.5)\n",
    "        #eke.to_netcdf(outfilename)\n",
    "        \n",
    "        if nn==1:\n",
    "            eke_sum = eke\n",
    "        else:\n",
    "            eke_sum = eke_sum + eke\n",
    "            \n",
    "        print(ekefilename)\n",
    "            \n",
    "    eke_sum = eke_sum/nn\n",
    "    eke_sum.plot(ax=ax_p,color='r',linewidth=1.5)\n",
    "    ax_p.set_xlabel('Time')\n",
    "    ax_p.set_ylabel('EKE',color=col)\n",
    "    \n",
    "    taufilename = HardDisk+EnsembleDir+'tau/'+'tau_????.nc'\n",
    "    tau = xr.open_mfdataset(taufilename).tau\n",
    "    \n",
    "    #outfilename = HardDisk+EnsembleDir+'tau/'+'tau_'+desc+'.nc'\n",
    "    #print(taufilename+' -> '+outfilename)\n",
    "    tau = tau.sel(lon=slice(lon1,lon2)).sel(lat=slice(lat1,lat2)).mean('lon').mean('lat')\n",
    "    tau = tau.rolling(time=13,center=True).mean()\n",
    "    tau.plot(ax=ax_pt,color='k',linewidth=1,linestyle='--')\n",
    "    ax_pt.set_ylim(ymin=0.08)\n",
    "    ax_pt.set_ylabel('Wind Stress')\n",
    "    #tau.to_netcdf(outfilename)"
   ]
  },
  {
   "cell_type": "code",
   "execution_count": null,
   "metadata": {},
   "outputs": [
    {
     "name": "stdout",
     "output_type": "stream",
     "text": [
      "/g/data/v45/amh157/OCCIPUT/geouv/e001/eke_001_????.nc\n",
      "/g/data/v45/amh157/OCCIPUT/geouv/e002/eke_002_????.nc\n",
      "/g/data/v45/amh157/OCCIPUT/geouv/e003/eke_003_????.nc\n",
      "/g/data/v45/amh157/OCCIPUT/geouv/e004/eke_004_????.nc\n",
      "/g/data/v45/amh157/OCCIPUT/geouv/e005/eke_005_????.nc\n",
      "/g/data/v45/amh157/OCCIPUT/geouv/e006/eke_006_????.nc\n",
      "/g/data/v45/amh157/OCCIPUT/geouv/e007/eke_007_????.nc\n",
      "/g/data/v45/amh157/OCCIPUT/geouv/e008/eke_008_????.nc\n",
      "/g/data/v45/amh157/OCCIPUT/geouv/e009/eke_009_????.nc\n",
      "/g/data/v45/amh157/OCCIPUT/geouv/e010/eke_010_????.nc\n",
      "/g/data/v45/amh157/OCCIPUT/geouv/e011/eke_011_????.nc\n",
      "/g/data/v45/amh157/OCCIPUT/geouv/e012/eke_012_????.nc\n",
      "/g/data/v45/amh157/OCCIPUT/geouv/e013/eke_013_????.nc\n",
      "/g/data/v45/amh157/OCCIPUT/geouv/e014/eke_014_????.nc\n",
      "/g/data/v45/amh157/OCCIPUT/geouv/e015/eke_015_????.nc\n",
      "/g/data/v45/amh157/OCCIPUT/geouv/e016/eke_016_????.nc\n",
      "/g/data/v45/amh157/OCCIPUT/geouv/e017/eke_017_????.nc\n",
      "/g/data/v45/amh157/OCCIPUT/geouv/e018/eke_018_????.nc\n",
      "/g/data/v45/amh157/OCCIPUT/geouv/e019/eke_019_????.nc\n",
      "/g/data/v45/amh157/OCCIPUT/geouv/e020/eke_020_????.nc\n",
      "/g/data/v45/amh157/OCCIPUT/geouv/e021/eke_021_????.nc\n",
      "/g/data/v45/amh157/OCCIPUT/geouv/e022/eke_022_????.nc\n",
      "/g/data/v45/amh157/OCCIPUT/geouv/e023/eke_023_????.nc\n",
      "/g/data/v45/amh157/OCCIPUT/geouv/e024/eke_024_????.nc\n",
      "/g/data/v45/amh157/OCCIPUT/geouv/e025/eke_025_????.nc\n",
      "/g/data/v45/amh157/OCCIPUT/geouv/e026/eke_026_????.nc\n",
      "/g/data/v45/amh157/OCCIPUT/geouv/e027/eke_027_????.nc\n",
      "/g/data/v45/amh157/OCCIPUT/geouv/e028/eke_028_????.nc\n",
      "/g/data/v45/amh157/OCCIPUT/geouv/e029/eke_029_????.nc\n",
      "/g/data/v45/amh157/OCCIPUT/geouv/e030/eke_030_????.nc\n",
      "/g/data/v45/amh157/OCCIPUT/geouv/e031/eke_031_????.nc\n",
      "/g/data/v45/amh157/OCCIPUT/geouv/e032/eke_032_????.nc\n",
      "/g/data/v45/amh157/OCCIPUT/geouv/e033/eke_033_????.nc\n",
      "/g/data/v45/amh157/OCCIPUT/geouv/e034/eke_034_????.nc\n",
      "/g/data/v45/amh157/OCCIPUT/geouv/e035/eke_035_????.nc\n",
      "/g/data/v45/amh157/OCCIPUT/geouv/e036/eke_036_????.nc\n",
      "/g/data/v45/amh157/OCCIPUT/geouv/e037/eke_037_????.nc\n",
      "/g/data/v45/amh157/OCCIPUT/geouv/e038/eke_038_????.nc\n",
      "/g/data/v45/amh157/OCCIPUT/geouv/e039/eke_039_????.nc\n",
      "/g/data/v45/amh157/OCCIPUT/geouv/e040/eke_040_????.nc\n",
      "/g/data/v45/amh157/OCCIPUT/geouv/e041/eke_041_????.nc\n",
      "/g/data/v45/amh157/OCCIPUT/geouv/e042/eke_042_????.nc\n",
      "/g/data/v45/amh157/OCCIPUT/geouv/e043/eke_043_????.nc\n",
      "/g/data/v45/amh157/OCCIPUT/geouv/e044/eke_044_????.nc\n",
      "/g/data/v45/amh157/OCCIPUT/geouv/e045/eke_045_????.nc\n",
      "/g/data/v45/amh157/OCCIPUT/geouv/e046/eke_046_????.nc\n",
      "/g/data/v45/amh157/OCCIPUT/geouv/e047/eke_047_????.nc\n",
      "/g/data/v45/amh157/OCCIPUT/geouv/e048/eke_048_????.nc\n",
      "/g/data/v45/amh157/OCCIPUT/geouv/e049/eke_049_????.nc\n",
      "/g/data/v45/amh157/OCCIPUT/geouv/e050/eke_050_????.nc\n"
     ]
    }
   ],
   "source": [
    "%%time\n",
    "plt.figure(figsize=(14, 6))\n",
    "ax = plt.axes([0.05,0.1,0.4,0.8],projection=ccrs.SouthPolarStereo())\n",
    "ax.set_extent([-287, 73, -80, -30], crs=ccrs.PlateCarree())\n",
    "\n",
    "# Compute a circle in axes coordinates, which we can use as a boundary\n",
    "# for the map. We can pan/zoom as much as we like - the boundary will be\n",
    "# permanently circular.\n",
    "theta = np.linspace(0, 2*np.pi, 100)\n",
    "center, radius = [0.5, 0.5], 0.5\n",
    "verts = np.vstack([np.sin(theta), np.cos(theta)]).T\n",
    "circle = mpath.Path(verts * radius + center)\n",
    "ax.set_boundary(circle, transform=ax.transAxes)\n",
    "\n",
    "ax.add_feature(land_50m)\n",
    "ax.gridlines()\n",
    "p1 = eke_month.mean('month').plot(cmap=cm.cm.speed,vmax=0.16,add_colorbar=False,transform=ccrs.PlateCarree())\n",
    "plt.title('EKE Climatology')\n",
    "\n",
    "ax_c = plt.axes([0.02,0.7,0.01,0.2])\n",
    "plt.colorbar(p1,cax=ax_c,orientation='vertical',extend='max')\n",
    "\n",
    "ax2 = plt.axes([0.5,0.2,0.4,0.6])\n",
    "ax3 = ax2.twinx()\n",
    "proc_plot_eke_box('Agulhas Retroflection', 12,  35, -45,  -33, ax2, ax, ax3)\n",
    "\n",
    "plt.savefig('temp.png')"
   ]
  },
  {
   "cell_type": "code",
   "execution_count": null,
   "metadata": {},
   "outputs": [],
   "source": []
  }
 ],
 "metadata": {
  "kernelspec": {
   "display_name": "Python [conda env:analysis3-20.01]",
   "language": "python",
   "name": "conda-env-analysis3-20.01-py"
  },
  "language_info": {
   "codemirror_mode": {
    "name": "ipython",
    "version": 3
   },
   "file_extension": ".py",
   "mimetype": "text/x-python",
   "name": "python",
   "nbconvert_exporter": "python",
   "pygments_lexer": "ipython3",
   "version": "3.7.6"
  }
 },
 "nbformat": 4,
 "nbformat_minor": 2
}
