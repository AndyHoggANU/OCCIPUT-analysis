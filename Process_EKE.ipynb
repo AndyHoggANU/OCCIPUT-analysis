{
 "cells": [
  {
   "cell_type": "markdown",
   "metadata": {},
   "source": [
    "# EKE\n",
    "\n",
    "This notebook takes raw, daily SSH data from the `OCCIPUT` simulations and estimates `EKE(x,y,t)` assuming surface geostrophic velocities. It then resamples down to monthly data and saves the output locally for further analysis.\n",
    "\n",
    "**A few notes on this process:**\n",
    " * The tripolar grid in NEMO doesn't work so well with `xarray`. For that reason, these calculations are only really valid southwards of 23°N.\n",
    " * xarray handles gradients poorly. Since I am not using dask, for now, and numpy handles gradients a bit better, I have pulled out the SSH data as a numpy array, calculated SSH gradients from this, and pushed it back to a new dataarray, with proper latitude and longitude dimensions (south of 23°N)\n",
    " * The gradient calculation omits the variation of the gridsize with latitude. The EKE calculation also assumes constant f. This version is just approximate, to see if it is worth doing properly.\n",
    " * It is slow, and memory-intensive... for now I have limited the calculation just to the Southern Ocean region.\n",
    "\n",
    "**AH - 4 April 2019**"
   ]
  },
  {
   "cell_type": "code",
   "execution_count": 1,
   "metadata": {},
   "outputs": [],
   "source": [
    "%matplotlib inline\n",
    "\n",
    "import matplotlib.pyplot as plt\n",
    "import xarray as xr\n",
    "import numpy as np\n",
    "import IPython.display\n",
    "import pandas as pd\n",
    "import cmocean as cm\n",
    "import cartopy.crs as ccrs\n",
    "import cartopy.feature as cft\n",
    "#from dask.distributed import Client, progress\n",
    "\n",
    "import logging\n",
    "logging.captureWarnings(True)\n",
    "logging.getLogger('py.warnings').setLevel(logging.ERROR)"
   ]
  },
  {
   "cell_type": "code",
   "execution_count": 2,
   "metadata": {},
   "outputs": [],
   "source": [
    "HardDisk = '/Volumes/Untitled/'\n",
    "EnsembleDir = 'SSH_ENSEMBLE_all/'"
   ]
  },
  {
   "cell_type": "code",
   "execution_count": 3,
   "metadata": {},
   "outputs": [],
   "source": [
    "# This is an approximate scaling factor to get EKE from grad H.\n",
    "# It means EKE is in something like cm^2/s^2\n",
    "# Need to improve in future versions.\n",
    "ekefac = 9.8**2/(1e-4)**2/(0.25*1.e5)**2*1e4"
   ]
  },
  {
   "cell_type": "code",
   "execution_count": 4,
   "metadata": {},
   "outputs": [
    {
     "name": "stdout",
     "output_type": "stream",
     "text": [
      "Figured out lat and lon\n",
      "Now doing 044\n",
      "Opened /Volumes/Untitled/SSH_ENSEMBLE_all/ORCA025.L75-OCCITENS.044-S/1d/ORCA025.L75-OCCITENS.044_y????.1d_SSH.nc\n",
      "Got SLA as a dataarray\n",
      "Calculated the gradient of SLA\n",
      "Calculated EKE\n",
      "Got EKE as a dataarray\n",
      "Resampled EKE onto monthly\n",
      "Now doing 045\n",
      "Opened /Volumes/Untitled/SSH_ENSEMBLE_all/ORCA025.L75-OCCITENS.045-S/1d/ORCA025.L75-OCCITENS.045_y????.1d_SSH.nc\n",
      "Got SLA as a dataarray\n",
      "Calculated the gradient of SLA\n",
      "Calculated EKE\n",
      "Got EKE as a dataarray\n",
      "Resampled EKE onto monthly\n",
      "Now doing 046\n",
      "Opened /Volumes/Untitled/SSH_ENSEMBLE_all/ORCA025.L75-OCCITENS.046-S/1d/ORCA025.L75-OCCITENS.046_y????.1d_SSH.nc\n",
      "Got SLA as a dataarray\n",
      "Calculated the gradient of SLA\n",
      "Calculated EKE\n",
      "Got EKE as a dataarray\n",
      "Resampled EKE onto monthly\n",
      "Now doing 047\n",
      "Opened /Volumes/Untitled/SSH_ENSEMBLE_all/ORCA025.L75-OCCITENS.047-S/1d/ORCA025.L75-OCCITENS.047_y????.1d_SSH.nc\n",
      "Got SLA as a dataarray\n",
      "Calculated the gradient of SLA\n",
      "Calculated EKE\n",
      "Got EKE as a dataarray\n",
      "Resampled EKE onto monthly\n",
      "Now doing 048\n",
      "Opened /Volumes/Untitled/SSH_ENSEMBLE_all/ORCA025.L75-OCCITENS.048-S/1d/ORCA025.L75-OCCITENS.048_y????.1d_SSH.nc\n",
      "Got SLA as a dataarray\n",
      "Calculated the gradient of SLA\n",
      "Calculated EKE\n",
      "Got EKE as a dataarray\n",
      "Resampled EKE onto monthly\n",
      "Now doing 049\n",
      "Opened /Volumes/Untitled/SSH_ENSEMBLE_all/ORCA025.L75-OCCITENS.049-S/1d/ORCA025.L75-OCCITENS.049_y????.1d_SSH.nc\n",
      "Got SLA as a dataarray\n",
      "Calculated the gradient of SLA\n",
      "Calculated EKE\n",
      "Got EKE as a dataarray\n",
      "Resampled EKE onto monthly\n",
      "Now doing 050\n",
      "Opened /Volumes/Untitled/SSH_ENSEMBLE_all/ORCA025.L75-OCCITENS.050-S/1d/ORCA025.L75-OCCITENS.050_y????.1d_SSH.nc\n",
      "Got SLA as a dataarray\n",
      "Calculated the gradient of SLA\n",
      "Calculated EKE\n",
      "Got EKE as a dataarray\n",
      "Resampled EKE onto monthly\n",
      "CPU times: user 30min 13s, sys: 27min 38s, total: 57min 51s\n",
      "Wall time: 1h 31min 56s\n"
     ]
    }
   ],
   "source": [
    "%%time\n",
    "filename = HardDisk+EnsembleDir+'ORCA025.L75-OCCITENS.001-S/1d/ORCA025.L75-OCCITENS.001_y1995.1d_SSH.nc'\n",
    "ssh = xr.open_dataset(filename).ssh.drop('time_centered').isel(y=slice(130,310))\n",
    "lon = ssh.nav_lon.isel(y=0).values.copy()\n",
    "lon[:430] = lon[:430]-360\n",
    "lat = ssh.nav_lat.isel(x=387).values\n",
    "print('Figured out lat and lon')\n",
    "\n",
    "for ii in range(44,51):\n",
    "    i00 = '%03d' % ii\n",
    "    print('Now doing '+i00)\n",
    "\n",
    "    Member = 'ORCA025.L75-OCCITENS.'+i00\n",
    "    file = 'ORCA025.L75-OCCITENS.'+i00+'_y????.1d_SSH.nc'\n",
    "    filename = HardDisk+EnsembleDir+Member+'-S/1d/'+file\n",
    "    ## Load SSH  - Southern Ocean only\n",
    "    ssh = xr.open_mfdataset(filename).ssh.drop('time_centered').isel(y=slice(130,310))\n",
    "    print('Opened '+filename)\n",
    "        \n",
    "    sla = ssh - ssh.mean('time_counter')\n",
    "    print('Got SLA as a dataarray')\n",
    "    \n",
    "    grad_sla = np. gradient(sla.values,axis=(1,2))\n",
    "    print('Calculated the gradient of SLA')\n",
    "    \n",
    "    eke = ekefac*(grad_sla[0]**2 + grad_sla[1]**2)\n",
    "    print('Calculated EKE')\n",
    "\n",
    "    ekeda  = xr.DataArray(eke, coords=[('time', ssh.time_counter.values), \n",
    "                                            ('lat', lat),\n",
    "                                            ('lon', lon)], name='EKE',)\n",
    "    print('Got EKE as a dataarray')\n",
    "    \n",
    "    eke_monthly = ekeda.resample(time='M').mean('time')\n",
    "    print('Resampled EKE onto monthly')\n",
    "    \n",
    "    eke_monthly.to_netcdf('Data/'+Member+'_eke.nc')"
   ]
  },
  {
   "cell_type": "code",
   "execution_count": null,
   "metadata": {},
   "outputs": [],
   "source": [
    "plt.figure(figsize=(12,5))\n",
    "ax = plt.subplot(1,1,1,projection=ccrs.Robinson(central_longitude=0))\n",
    "ax.coastlines(resolution='50m')\n",
    "#ax.add_feature(land_50m)\n",
    "#plt.pcolormesh(lon,lat,ekeda,vmin=-1.5,vmax=1.5,cmap=cm.cm.balance,transform=ccrs.PlateCarree())\n",
    "eke_monthly.mean('time').plot(vmax=1000,cmap=cm.cm.thermal,transform=ccrs.PlateCarree())#vmin=0,vmax=2000,\n",
    "#plt.colorbar(shrink=0.6,extend='both')"
   ]
  },
  {
   "cell_type": "code",
   "execution_count": null,
   "metadata": {},
   "outputs": [],
   "source": [
    "eke_monthly.sel(lon=slice(-210,-72)).sel(lat=slice(-62,-48)).mean('lon').mean('lat').plot()"
   ]
  },
  {
   "cell_type": "code",
   "execution_count": null,
   "metadata": {},
   "outputs": [],
   "source": []
  }
 ],
 "metadata": {
  "kernelspec": {
   "display_name": "Python 3",
   "language": "python",
   "name": "python3"
  },
  "language_info": {
   "codemirror_mode": {
    "name": "ipython",
    "version": 3
   },
   "file_extension": ".py",
   "mimetype": "text/x-python",
   "name": "python",
   "nbconvert_exporter": "python",
   "pygments_lexer": "ipython3",
   "version": "3.6.8"
  }
 },
 "nbformat": 4,
 "nbformat_minor": 2
}
