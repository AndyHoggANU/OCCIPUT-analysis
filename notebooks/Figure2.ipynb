{
 "cells": [
  {
   "cell_type": "markdown",
   "metadata": {},
   "source": [
    "# Figure 2\n",
    "\n",
    "Still a draft. Mainly need to figure out significance ..."
   ]
  },
  {
   "cell_type": "code",
   "execution_count": 27,
   "metadata": {},
   "outputs": [],
   "source": [
    "%matplotlib inline\n",
    "\n",
    "import matplotlib.pyplot as plt\n",
    "import matplotlib.path as mpath\n",
    "import xarray as xr\n",
    "import numpy as np\n",
    "import datetime as dt\n",
    "import cmocean as cm\n",
    "import cartopy.crs as ccrs\n",
    "import cartopy.feature as cft\n",
    "from scipy import stats\n",
    "from dask.distributed import Client"
   ]
  },
  {
   "cell_type": "code",
   "execution_count": 28,
   "metadata": {},
   "outputs": [
    {
     "data": {
      "text/html": [
       "<table style=\"border: 2px solid white;\">\n",
       "<tr>\n",
       "<td style=\"vertical-align: top; border: 0px solid white\">\n",
       "<h3 style=\"text-align: left;\">Client</h3>\n",
       "<ul style=\"text-align: left; list-style: none; margin: 0; padding: 0;\">\n",
       "  <li><b>Scheduler: </b>tcp://127.0.0.1:42477</li>\n",
       "  <li><b>Dashboard: </b><a href='/proxy/8787/status' target='_blank'>/proxy/8787/status</a></li>\n",
       "</ul>\n",
       "</td>\n",
       "<td style=\"vertical-align: top; border: 0px solid white\">\n",
       "<h3 style=\"text-align: left;\">Cluster</h3>\n",
       "<ul style=\"text-align: left; list-style:none; margin: 0; padding: 0;\">\n",
       "  <li><b>Workers: </b>12</li>\n",
       "  <li><b>Cores: </b>24</li>\n",
       "  <li><b>Memory: </b>96.00 GiB</li>\n",
       "</ul>\n",
       "</td>\n",
       "</tr>\n",
       "</table>"
      ],
      "text/plain": [
       "<Client: 'tcp://127.0.0.1:42477' processes=12 threads=24, memory=96.00 GiB>"
      ]
     },
     "execution_count": 28,
     "metadata": {},
     "output_type": "execute_result"
    }
   ],
   "source": [
    "client = Client(n_workers=12)\n",
    "client"
   ]
  },
  {
   "cell_type": "code",
   "execution_count": 2,
   "metadata": {},
   "outputs": [],
   "source": [
    "HardDisk = '/g/data/v45/amh157/OCCIPUT/'\n",
    "EnsembleDir = 'processed_eke/'"
   ]
  },
  {
   "cell_type": "code",
   "execution_count": 3,
   "metadata": {},
   "outputs": [],
   "source": [
    "land_50m = cft.NaturalEarthFeature('physical', 'land', '50m',\n",
    "                                        edgecolor='black',\n",
    "                                        facecolor='gray',\n",
    "                                        linewidth=1.0)"
   ]
  },
  {
   "cell_type": "code",
   "execution_count": 4,
   "metadata": {},
   "outputs": [],
   "source": [
    "def pearsoncor(y1, y2):\n",
    "    ## Looking for lagged correlations between two timeseries\n",
    "    ## Assumes y1 is leading\n",
    "    ## Avoid end effects by using only first 2/3rds of timeseries\n",
    "    n = len(y1)\n",
    "    nc = int(n/3.5)\n",
    "    \n",
    "    # De-mean both timeseries\n",
    "    y1t = y1-np.mean(y1)\n",
    "    y2t = y2-np.mean(y2)    \n",
    "\n",
    "    cor = np.zeros(nc)\n",
    "    sig = np.zeros(nc)\n",
    "    for j in np.arange(0, nc):\n",
    "        x1t = np.roll(y1t, j)[j:]#y1t[:-j]\n",
    "        x2t = y2t[j:]\n",
    "        cor[j], sig[j] = stats.pearsonr(x1t, x2t)\n",
    "    return cor, sig"
   ]
  },
  {
   "cell_type": "markdown",
   "metadata": {},
   "source": [
    "## Other things to set"
   ]
  },
  {
   "cell_type": "code",
   "execution_count": 31,
   "metadata": {},
   "outputs": [],
   "source": [
    "nfiles = 50\n",
    "col = 'r'\n",
    "start = dt.datetime(1980,1,1) ## start time for plotting\n",
    "end = dt.datetime(2014,12,31)\n",
    "\n",
    "# set latitude bounds - otherwise, use whole SO.\n",
    "lat1 = -60\n",
    "lat2 = -40"
   ]
  },
  {
   "cell_type": "markdown",
   "metadata": {},
   "source": [
    "## Load wind stress first\n",
    "Note, this is the same for all ensemble members."
   ]
  },
  {
   "cell_type": "code",
   "execution_count": 26,
   "metadata": {},
   "outputs": [],
   "source": [
    "taufilename = HardDisk+'processed_tau/'+'tau_????.nc'\n",
    "tau = xr.open_mfdataset(taufilename).tau\n",
    "    \n",
    "tau = tau.sel(lat=slice(lat1,lat2)).mean('lon').mean('lat')\n",
    "tau = tau.rolling(time=12,center=True).mean().load()\n",
    "taup = tau[6:-6] - tau.mean() #Remove first and last 6 months, due to running mean"
   ]
  },
  {
   "cell_type": "markdown",
   "metadata": {},
   "source": [
    "## Process EKE\n",
    "This loads eke and also processes lagged correlations for each ensemble member"
   ]
  },
  {
   "cell_type": "code",
   "execution_count": 32,
   "metadata": {},
   "outputs": [],
   "source": [
    "eke_results = []\n",
    "nn=0\n",
    "for ii in range(1,nfiles+1):\n",
    "    nn+=1\n",
    "    i00 = '%03d' % ii\n",
    "    Member = 'e'+i00\n",
    "    ekefilename = HardDisk+EnsembleDir+'/eke_'+i00+'_????.nc'\n",
    "        \n",
    "    eke = xr.open_mfdataset(ekefilename).EKE\n",
    "    eke = eke.sel(lat=slice(lat1,lat2)).mean('lon').mean('lat')\n",
    "    eke = eke.rolling(time=12,center=True).mean().load()\n",
    "\n",
    "    ekep = eke[6:-6] - eke.mean()\n",
    "    coef, signif = pearsoncor(taup,ekep)\n",
    "    \n",
    "    result = {'ii': ii,'eke': eke,'coef':coef,'signif':signif}\n",
    "    eke_results.append(result)\n",
    "    \n",
    "    if ii==1:\n",
    "        eke_sum = eke\n",
    "    else:\n",
    "        eke_sum = eke_sum + eke\n",
    "                        \n",
    "eke_sum = eke_sum.load()/nn"
   ]
  },
  {
   "cell_type": "markdown",
   "metadata": {},
   "source": [
    "## Compute variance ratios from saved results"
   ]
  },
  {
   "cell_type": "code",
   "execution_count": 34,
   "metadata": {},
   "outputs": [
    {
     "name": "stdout",
     "output_type": "stream",
     "text": [
      "Whole Southern Ocean: R_i = 0.69\n"
     ]
    }
   ],
   "source": [
    "for result in eke_results:\n",
    "    ii = result['ii']\n",
    "    eke = result['eke']\n",
    "    if ii==1:\n",
    "        eke_var = (eke - eke_sum)**2\n",
    "    else:\n",
    "        eke_var = eke_var + (eke - eke_sum)**2\n",
    "        \n",
    "eke_var = eke_var.load()/nn\n",
    "sigma2 = np.var(eke_sum)  \n",
    "epsilon2 = eke_var.mean('time')\n",
    "ratio = (epsilon2/(epsilon2+sigma2))\n",
    "print('Whole Southern Ocean: R_i = %0.2f'%ratio.values)"
   ]
  },
  {
   "cell_type": "markdown",
   "metadata": {},
   "source": [
    "## Compute ensemble mean lagged correlation"
   ]
  },
  {
   "cell_type": "code",
   "execution_count": 61,
   "metadata": {},
   "outputs": [
    {
     "name": "stdout",
     "output_type": "stream",
     "text": [
      "Correlations: 7 months, 0.48, 0.00\n"
     ]
    }
   ],
   "source": [
    "ekep = eke_sum[6:-6] - eke_sum.mean()\n",
    "coef_sum, signif_sum = pearsoncor(taup,ekep)\n",
    "lag = coef_sum.argmax() \n",
    "print('Correlations: %d months, %0.2f, %0.2f'%(lag, coef_sum[lag], signif_sum[lag]))"
   ]
  },
  {
   "cell_type": "markdown",
   "metadata": {},
   "source": [
    "## And now plot"
   ]
  },
  {
   "cell_type": "code",
   "execution_count": null,
   "metadata": {},
   "outputs": [],
   "source": [
    "plt.figure(figsize=(10, 4))\n",
    "ax_eke = plt.axes([0.1,0.13,0.45,0.77])\n",
    "for result in eke_results:\n",
    "    ii = result['ii']\n",
    "    eke = result['eke']\n",
    "    eke.plot(ax=ax_eke,color=[0.5, 0.5, 0.5],linewidth=0.5)\n",
    "\n",
    "eke_sum.plot(ax=ax_eke,color=col,linewidth=2,label='EKE')\n",
    "ax_eke.set_xlabel('Year')\n",
    "ax_eke.set_ylabel('Eddy KE (m$^2$/s$^2$)',color=col)\n",
    "#ax_eke.set_ylim(ymax=0.013)\n",
    "ax_eke.set_yticks([0.01, .011, .012])\n",
    "ax_eke.tick_params('y',labelcolor=col)\n",
    "ax_eke.set_xlim([start,end])\n",
    "ax_eke.set_title('(a) Eddy Kinetic Energy')\n",
    "\n",
    "plt.legend()\n",
    "\n",
    "## Axes to plot the wind\n",
    "ax_tau=ax_eke.twinx()\n",
    "\n",
    "tau.plot(ax=ax_tau,color='k',linewidth=1,label='wind')\n",
    "ax_tau.set_ylim([0.135,0.185])\n",
    "ax_tau.set_ylabel('Wind Stress (N/m$^2$)')\n",
    "ax_tau.set_xlim([start,end])\n",
    "\n",
    "plt.legend()\n",
    "## Axes to plot lagged correlation\n",
    "ax_corr = plt.axes([0.7,0.13,0.25,0.77])\n",
    "\n",
    "for result in eke_results:\n",
    "    ii = result['ii']\n",
    "    coef = result['coef']\n",
    "    ax_corr.plot(coef,color=[0.5, 0.5, 0.5],linewidth=0.5)\n",
    "\n",
    "ax_corr.plot(coef_sum,linewidth=2,label='Ensemble mean')\n",
    "    \n",
    "ax_corr.plot(lag,coef_sum[lag],'.')\n",
    "\n",
    "ax_corr.set_xlim([0,48])\n",
    "ax_corr.set_ylim([-0.3,0.6])\n",
    "ax_corr.set_xticks([0, 12, 24, 36])\n",
    "ax_corr.set_title('(b) Lag Correlation')\n",
    "ax_corr.set_xlabel('Months')\n",
    "ax_corr.set_ylabel('Correlation')\n",
    "ax_corr.grid()\n",
    "\n",
    "# extra line!!\n",
    "result = eke_results[3]\n",
    "#eke = result['eke']\n",
    "#eke.plot(ax=ax_eke,color='m',linewidth=0.5)\n",
    "coef = result['coef']\n",
    "ax_corr.plot(coef,color='m',linewidth=1,label='Member 4')\n",
    "\n",
    "# extra line!!\n",
    "result = eke_results[4]\n",
    "#eke = result['eke']\n",
    "#eke.plot(ax=ax_eke,color='orange',linewidth=1)\n",
    "coef = result['coef']\n",
    "ax_corr.plot(coef,color='orange',linewidth=1,label='Member 5')\n",
    "\n",
    "plt.legend()\n",
    "\n",
    "plt.savefig('../paper/figures/Figure2.png',dpi=200)"
   ]
  },
  {
   "cell_type": "code",
   "execution_count": null,
   "metadata": {},
   "outputs": [],
   "source": []
  }
 ],
 "metadata": {
  "kernelspec": {
   "display_name": "Python [conda env:analysis3-21.04]",
   "language": "python",
   "name": "conda-env-analysis3-21.04-py"
  },
  "language_info": {
   "codemirror_mode": {
    "name": "ipython",
    "version": 3
   },
   "file_extension": ".py",
   "mimetype": "text/x-python",
   "name": "python",
   "nbconvert_exporter": "python",
   "pygments_lexer": "ipython3",
   "version": "3.8.10"
  }
 },
 "nbformat": 4,
 "nbformat_minor": 4
}
